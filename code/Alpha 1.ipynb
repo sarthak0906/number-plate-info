{
 "cells": [
  {
   "cell_type": "code",
   "execution_count": 5,
   "metadata": {},
   "outputs": [
    {
     "name": "stdout",
     "output_type": "stream",
     "text": [
      "MHOZEP 1543\n"
     ]
    }
   ],
   "source": [
    "import numpy as np\n",
    "import pytesseract\n",
    "pytesseract.pytesseract.tesseract_cmd = 'C:\\\\Program Files\\\\Tesseract-OCR\\\\tesseract.exe'\n",
    "import cv2\n",
    "imag = cv2.imread(\"Test_011.png\",1)\n",
    "image_gre = cv2.imread(\"Test_011.png\",0)\n",
    "image = cv2.resize(imag,(500,400))\n",
    "image_grey = cv2.resize(image_gre,(500,400))    \n",
    "def imgshow(a):\n",
    "    cv2.imshow('Test_011',a)\n",
    "    cv2.waitKey(0)\n",
    "    cv2.destroyAllWindows()\n",
    "imgshow(image)\n",
    "bil_blurr = cv2.bilateralFilter(image_grey,9,75,75)\n",
    "imgshow(bil_blurr)\n",
    "edge = cv2.Canny(bil_blurr,170,200)\n",
    "imgshow(edge)\n",
    "edge_copy=edge.copy()\n",
    "cntr,heirarchy = cv2.findContours(edge_copy,cv2.RETR_LIST,cv2.CHAIN_APPROX_SIMPLE)\n",
    "imcopy = image.copy()\n",
    "cv2.drawContours(imcopy,cntr,-1,(0,255,0),3)\n",
    "imgshow(imcopy)\n",
    "cntr = sorted(cntr,key=cv2.contourArea,reverse=True)[:100]\n",
    "imcopy_1=image.copy()\n",
    "cv2.drawContours(imcopy_1,cntr,-1,(0,255,0),3)\n",
    "imgshow(imcopy_1)\n",
    "numberplate_cnt=None\n",
    "k=2\n",
    "for c in cntr:\n",
    "    perimeter = cv2.arcLength(c,True)\n",
    "    approximate = cv2.approxPolyDP(c,0.1*perimeter,True)\n",
    "    if len(approximate)==4:\n",
    "        numberplate_cnt=approximate\n",
    "        x,y,a,b=cv2.boundingRect(c)\n",
    "        new_img=image[y:y+b,x:x+a]\n",
    "        cv2.imwrite('Test_crop/'+str(k)+'.png',new_img)\n",
    "        k+=1\n",
    "        break\n",
    "cv2.drawContours(image,[numberplate_cnt],-1,(0,255,0),2)\n",
    "imgshow(image)\n",
    "cropped_image = cv2.imread('Test_crop/2.png')\n",
    "cropped_image = cv2.resize(cropped_image,(150,75))\n",
    "imgshow(cropped_image)\n",
    "number = pytesseract.image_to_string('Test_crop/2.png',lang='eng')\n",
    "print(number)"
   ]
  },
  {
   "cell_type": "code",
   "execution_count": null,
   "metadata": {},
   "outputs": [],
   "source": []
  },
  {
   "cell_type": "code",
   "execution_count": null,
   "metadata": {},
   "outputs": [],
   "source": []
  }
 ],
 "metadata": {
  "kernelspec": {
   "display_name": "Python 3",
   "language": "python",
   "name": "python3"
  },
  "language_info": {
   "codemirror_mode": {
    "name": "ipython",
    "version": 3
   },
   "file_extension": ".py",
   "mimetype": "text/x-python",
   "name": "python",
   "nbconvert_exporter": "python",
   "pygments_lexer": "ipython3",
   "version": "3.7.0"
  }
 },
 "nbformat": 4,
 "nbformat_minor": 2
}
