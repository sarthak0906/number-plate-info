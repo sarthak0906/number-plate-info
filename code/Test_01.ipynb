{
 "cells": [
  {
   "cell_type": "code",
   "execution_count": 1,
   "metadata": {},
   "outputs": [],
   "source": [
    "import numpy as np\n",
    "import pandas as pd\n",
    "import seaborn as sns\n",
    "import cv2"
   ]
  },
  {
   "cell_type": "code",
   "execution_count": 2,
   "metadata": {},
   "outputs": [],
   "source": [
    "img = cv2.imread(\"Test_011.png\",1)\n",
    "img1 = cv2.imread(\"Test_011.png\",0)"
   ]
  },
  {
   "cell_type": "code",
   "execution_count": 3,
   "metadata": {},
   "outputs": [
    {
     "name": "stdout",
     "output_type": "stream",
     "text": [
      "[[[ 14  11  90]\n",
      "  [ 14  11  90]\n",
      "  [ 14  12  88]\n",
      "  ...\n",
      "  [ 41  27 128]\n",
      "  [ 40  26 127]\n",
      "  [ 40  26 127]]\n",
      "\n",
      " [[ 16  13  82]\n",
      "  [ 16  13  82]\n",
      "  [ 16  14  80]\n",
      "  ...\n",
      "  [ 39  28 125]\n",
      "  [ 38  27 124]\n",
      "  [ 38  27 124]]\n",
      "\n",
      " [[ 18  12  71]\n",
      "  [ 18  12  71]\n",
      "  [ 18  12  69]\n",
      "  ...\n",
      "  [ 35  27 122]\n",
      "  [ 35  27 122]\n",
      "  [ 34  26 121]]\n",
      "\n",
      " ...\n",
      "\n",
      " [[ 30  19 115]\n",
      "  [ 28  17 113]\n",
      "  [ 24  14 107]\n",
      "  ...\n",
      "  [ 26  17 114]\n",
      "  [ 21  13 108]\n",
      "  [ 19  12 103]]\n",
      "\n",
      " [[ 31  20 116]\n",
      "  [ 29  18 114]\n",
      "  [ 24  14 107]\n",
      "  ...\n",
      "  [ 26  17 114]\n",
      "  [ 21  13 108]\n",
      "  [ 19  12 103]]\n",
      "\n",
      " [[ 31  20 116]\n",
      "  [ 29  18 114]\n",
      "  [ 25  15 108]\n",
      "  ...\n",
      "  [ 26  17 114]\n",
      "  [ 21  13 108]\n",
      "  [ 19  12 103]]]\n"
     ]
    }
   ],
   "source": [
    "print(img)"
   ]
  },
  {
   "cell_type": "code",
   "execution_count": 4,
   "metadata": {},
   "outputs": [
    {
     "name": "stdout",
     "output_type": "stream",
     "text": [
      "[[34 34 34 ... 58 57 57]\n",
      " [33 33 33 ... 58 57 57]\n",
      " [30 30 29 ... 56 56 55]\n",
      " ...\n",
      " [48 46 42 ... 47 42 40]\n",
      " [49 47 42 ... 47 42 40]\n",
      " [49 47 43 ... 47 42 40]]\n"
     ]
    }
   ],
   "source": [
    "print(img1)"
   ]
  },
  {
   "cell_type": "code",
   "execution_count": 9,
   "metadata": {},
   "outputs": [
    {
     "name": "stdout",
     "output_type": "stream",
     "text": [
      "(52, 170, 3)\n"
     ]
    }
   ],
   "source": [
    "print(img.shape)"
   ]
  },
  {
   "cell_type": "code",
   "execution_count": 10,
   "metadata": {},
   "outputs": [
    {
     "name": "stdout",
     "output_type": "stream",
     "text": [
      "(52, 170)\n"
     ]
    }
   ],
   "source": [
    "print(img1.shape)"
   ]
  },
  {
   "cell_type": "code",
   "execution_count": 14,
   "metadata": {},
   "outputs": [],
   "source": [
    "cv2.imshow('Test_011',img)\n",
    "cv2.waitKey(0)\n",
    "cv2.destroyAllWindows()\n",
    "cv2.imshow('Test_011',img1)\n",
    "cv2.waitKey(0)\n",
    "cv2.destroyAllWindows()"
   ]
  },
  {
   "cell_type": "code",
   "execution_count": 16,
   "metadata": {},
   "outputs": [],
   "source": [
    "imr = cv2.resize(img,(500,500))\n",
    "cv2.imshow('Test_011',imr)\n",
    "cv2.waitKey(0)\n",
    "cv2.destroyAllWindows()"
   ]
  },
  {
   "cell_type": "code",
   "execution_count": 18,
   "metadata": {},
   "outputs": [],
   "source": [
    "imr = cv2.resize(img,(img.shape[1]*2,img.shape[0]*2))\n",
    "cv2.imshow('Test_011',imr)\n",
    "cv2.waitKey(0)\n",
    "cv2.destroyAllWindows()"
   ]
  },
  {
   "cell_type": "code",
   "execution_count": 50,
   "metadata": {},
   "outputs": [],
   "source": [
    " img = np.zeros((512,512,3),np.uint8) "
   ]
  },
  {
   "cell_type": "code",
   "execution_count": 35,
   "metadata": {},
   "outputs": [],
   "source": [
    "cv2.imshow(\"Image\",img)\n",
    "cv2.waitKey()\n",
    "cv2.destroyAllWindows()"
   ]
  },
  {
   "cell_type": "code",
   "execution_count": 36,
   "metadata": {},
   "outputs": [],
   "source": [
    "imgl = cv2.line(img,(0,0),(511,511),(255,0,0),9)"
   ]
  },
  {
   "cell_type": "code",
   "execution_count": 37,
   "metadata": {},
   "outputs": [],
   "source": [
    "cv2.imshow(\"Image\",imgl)\n",
    "cv2.waitKey()\n",
    "cv2.destroyAllWindows()"
   ]
  },
  {
   "cell_type": "code",
   "execution_count": 41,
   "metadata": {},
   "outputs": [],
   "source": [
    "imgr= cv2.rectangle(img,(100,100),(200,200),(255,0,0),5)"
   ]
  },
  {
   "cell_type": "code",
   "execution_count": 42,
   "metadata": {},
   "outputs": [],
   "source": [
    "cv2.imshow(\"Image\",imgr)\n",
    "cv2.waitKey()\n",
    "cv2.destroyAllWindows()"
   ]
  },
  {
   "cell_type": "code",
   "execution_count": 48,
   "metadata": {},
   "outputs": [],
   "source": [
    "imgc = cv2.circle(img,(150,150),50,(255,0,0),5)"
   ]
  },
  {
   "cell_type": "code",
   "execution_count": 49,
   "metadata": {},
   "outputs": [],
   "source": [
    "cv2.imshow(\"Image\",imgc)\n",
    "cv2.waitKey()\n",
    "cv2.destroyAllWindows()"
   ]
  },
  {
   "cell_type": "code",
   "execution_count": null,
   "metadata": {},
   "outputs": [],
   "source": []
  }
 ],
 "metadata": {
  "kernelspec": {
   "display_name": "Python 3",
   "language": "python",
   "name": "python3"
  },
  "language_info": {
   "codemirror_mode": {
    "name": "ipython",
    "version": 3
   },
   "file_extension": ".py",
   "mimetype": "text/x-python",
   "name": "python",
   "nbconvert_exporter": "python",
   "pygments_lexer": "ipython3",
   "version": "3.7.0"
  }
 },
 "nbformat": 4,
 "nbformat_minor": 2
}
