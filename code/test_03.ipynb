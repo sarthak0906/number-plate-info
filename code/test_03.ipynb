{
 "cells": [
  {
   "cell_type": "code",
   "execution_count": 17,
   "metadata": {},
   "outputs": [],
   "source": [
    "import numpy as np\n",
    "import pandas as pd\n",
    "import seaborn as sns\n",
    "import cv2\n",
    "import matplotlib.pyplot as plt\n",
    "imag = cv2.imread(\"Test_011.png\",1)\n",
    "image_gre = cv2.imread(\"Test_011.png\",0)\n",
    "image = cv2.resize(imag,(300,300))\n",
    "image_grey = cv2.resize(image_gre,(300,300))    \n",
    "def imgshow(a):\n",
    "    cv2.imshow('Test_011',a)\n",
    "    cv2.waitKey(0)\n",
    "    cv2.destroyAllWindows()\n",
    "imgshow(image)\n",
    "bil_blurr = cv2.bilateralFilter(image_grey,9,75,75)\n",
    "imgshow(bil_blurr)\n",
    "edge = cv2.Canny(bil_blurr,170,200)\n",
    "imgshow(edge)\n",
    "edge_copy=edge.copy()\n",
    "cntr,heirarchy = cv2.findContours(edge_copy,cv2.RETR_LIST,cv2.CHAIN_APPROX_SIMPLE)\n",
    "imcopy = image.copy()\n",
    "cv2.drawContours(imcopy,cntr,-1,(0,255,0),3)\n",
    "imgshow(imcopy)\n",
    "cntr = sorted(cntr,key=cv2.contourArea,reverse=True)[:100]\n",
    "imcopy_1=image.copy()\n",
    "cv2.drawContours(imcopy_1,cntr,-1,(0,255,0),3)\n",
    "imgshow(imcopy_1)\n",
    "numberplate_cnt=None\n",
    "k=2\n",
    "for c in cntr:\n",
    "    perimeter = cv2.arcLength(c,True)\n",
    "    approximate = cv2.approxPolyDP(c,0.1*perimeter,True)\n",
    "    if len(approximate)==4:\n",
    "        numberplate_cnt=approximate\n",
    "        x,y,a,b=cv2.boundingRect(c)\n",
    "        new_img=image[y:y+b,x:x+a]\n",
    "        cv2.imwrite('Yesy_crop/'+str(k)+'.png',new_img)\n",
    "        k+=1\n",
    "        break\n",
    "cv2.drawContours(image,[numberplate_cnt],-1,(0,255,0),2)\n",
    "imgshow(image)"
   ]
  },
  {
   "cell_type": "code",
   "execution_count": null,
   "metadata": {},
   "outputs": [],
   "source": [
    "\n"
   ]
  },
  {
   "cell_type": "code",
   "execution_count": null,
   "metadata": {},
   "outputs": [],
   "source": []
  }
 ],
 "metadata": {
  "kernelspec": {
   "display_name": "Python 3",
   "language": "python",
   "name": "python3"
  },
  "language_info": {
   "codemirror_mode": {
    "name": "ipython",
    "version": 3
   },
   "file_extension": ".py",
   "mimetype": "text/x-python",
   "name": "python",
   "nbconvert_exporter": "python",
   "pygments_lexer": "ipython3",
   "version": "3.7.0"
  }
 },
 "nbformat": 4,
 "nbformat_minor": 2
}
