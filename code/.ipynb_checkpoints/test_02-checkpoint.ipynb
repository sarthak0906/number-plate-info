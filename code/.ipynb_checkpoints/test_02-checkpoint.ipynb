{
 "cells": [
  {
   "cell_type": "code",
   "execution_count": 2,
   "metadata": {},
   "outputs": [],
   "source": [
    "import numpy as np\n",
    "import pandas as pd\n",
    "import seaborn as sns\n",
    "import cv2\n",
    "import matplotlib.pyplot as plt"
   ]
  },
  {
   "cell_type": "code",
   "execution_count": 75,
   "metadata": {},
   "outputs": [],
   "source": [
    "imag = cv2.imread(\"Test_011.png\",1)\n",
    "image_gre = cv2.imread(\"Test_011.png\",0)\n",
    "image = cv2.resize(imag,(900,900))\n",
    "image_grey = cv2.resize(image_gre,(900,900))    "
   ]
  },
  {
   "cell_type": "code",
   "execution_count": 76,
   "metadata": {},
   "outputs": [],
   "source": [
    "def imgshow(a):\n",
    "    cv2.imshow('Test_011',a)\n",
    "    cv2.waitKey(0)\n",
    "    cv2.destroyAllWindows()\n",
    "imgshow(image)"
   ]
  },
  {
   "cell_type": "code",
   "execution_count": 6,
   "metadata": {},
   "outputs": [],
   "source": [
    "blurr_image = cv2.blur(image,(100,100))\n",
    "imgshow(blurr_image)"
   ]
  },
  {
   "cell_type": "code",
   "execution_count": 7,
   "metadata": {},
   "outputs": [],
   "source": [
    "med_blurr = cv2.medianBlur(image,101)\n",
    "imgshow(med_blurr)"
   ]
  },
  {
   "cell_type": "code",
   "execution_count": 77,
   "metadata": {},
   "outputs": [],
   "source": [
    "bil_blurr = cv2.bilateralFilter(image_grey,9,75,75)\n",
    "imgshow(bil_blurr)"
   ]
  },
  {
   "cell_type": "code",
   "execution_count": 78,
   "metadata": {},
   "outputs": [],
   "source": [
    "edge = cv2.Canny(bil_blurr,170,200)\n",
    "imgshow(edge)\n",
    "edge_copy=edge.copy()"
   ]
  },
  {
   "cell_type": "code",
   "execution_count": 91,
   "metadata": {},
   "outputs": [],
   "source": [
    "cntr,heirarchy = cv2.findContours(edge_copy,cv2.RETR_LIST,cv2.CHAIN_APPROX_SIMPLE)\n",
    "imcopy = image.copy()\n",
    "cv2.drawContours(imcopy,cntr,-1,(0,255,0),3)\n",
    "imgshow(imcopy)\n"
   ]
  },
  {
   "cell_type": "code",
   "execution_count": 92,
   "metadata": {},
   "outputs": [],
   "source": [
    "cntr = sorted(cntr,key=cv2.contourArea,reverse=True)[:150]"
   ]
  },
  {
   "cell_type": "code",
   "execution_count": 93,
   "metadata": {},
   "outputs": [],
   "source": [
    "imcopy_1=image.copy()\n",
    "cv2.drawContours(imcopy_1,cntr,-1,(0,255,0),3)\n",
    "imgshow(imcopy_1)"
   ]
  },
  {
   "cell_type": "code",
   "execution_count": 94,
   "metadata": {},
   "outputs": [],
   "source": [
    "numberplate_cnt=None"
   ]
  },
  {
   "cell_type": "code",
   "execution_count": 95,
   "metadata": {},
   "outputs": [],
   "source": [
    "k=1\n",
    "for c in cntr:\n",
    "    perimeter = cv2.arcLength(c,True)\n",
    "    approximate = cv2.approxPolyDP(c,0.02*perimeter,True)\n",
    "    if len(approximate)==4:\n",
    "        numberplate_cnt=approximate\n",
    "        x,y,a,b=cv2.boundingRect(c)\n",
    "        new_img=image[y:y+b,x:x+a]\n",
    "        cv2.imwrite('Yesy_crop/'+str(k)+'.png',new_img)\n",
    "        k+=1\n",
    "        break\n"
   ]
  },
  {
   "cell_type": "code",
   "execution_count": 96,
   "metadata": {},
   "outputs": [],
   "source": [
    "cv2.drawContours(image,[numberplate_cnt],-1,(0,255,0),2)\n",
    "imgshow(image)"
   ]
  },
  {
   "cell_type": "code",
   "execution_count": null,
   "metadata": {},
   "outputs": [],
   "source": []
  }
 ],
 "metadata": {
  "kernelspec": {
   "display_name": "Python 3",
   "language": "python",
   "name": "python3"
  }
 },
 "nbformat": 4,
 "nbformat_minor": 2
}
